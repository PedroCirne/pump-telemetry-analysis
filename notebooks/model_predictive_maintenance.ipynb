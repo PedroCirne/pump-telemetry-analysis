{
 "cells": [
  {
   "cell_type": "code",
   "execution_count": 2,
   "id": "01d20a2e",
   "metadata": {},
   "outputs": [],
   "source": [
    "import pandas as pd\n",
    "\n",
    "# Carregar a base completa\n",
    "df = pd.read_csv('../data/Telemetria_de_M_ltiplas_Bombas.csv')\n",
    "df['timestamp'] = pd.to_datetime(df['timestamp'])\n"
   ]
  },
  {
   "cell_type": "code",
   "execution_count": 3,
   "id": "a8ee6a7e",
   "metadata": {},
   "outputs": [],
   "source": [
    "df_model = df[df['pump_id'] == 'pump_001'].copy()\n"
   ]
  },
  {
   "cell_type": "code",
   "execution_count": 4,
   "id": "e72d88d2",
   "metadata": {},
   "outputs": [
    {
     "data": {
      "text/plain": [
       "(   pressure_out  vibration  temperature\n",
       " 0      9.525054   1.503521    79.396536\n",
       " 1      9.786150   1.658232    75.196546\n",
       " 2      9.581833   1.016699    70.438372\n",
       " 3     10.077293   1.224031    72.687504\n",
       " 4     10.838025   1.455546    76.714267,\n",
       " 0    15.256310\n",
       " 1    15.018383\n",
       " 2    14.353267\n",
       " 3    14.996210\n",
       " 4    15.736262\n",
       " Name: power_consumption, dtype: float64)"
      ]
     },
     "execution_count": 4,
     "metadata": {},
     "output_type": "execute_result"
    }
   ],
   "source": [
    "# Selecionar dados da pump_001 para manter consistência\n",
    "df_model = df[df['pump_id'] == 'pump_001'].copy()\n",
    "\n",
    "# Definir target (o que queremos prever)\n",
    "target = 'power_consumption'\n",
    "\n",
    "# Definir as variáveis de entrada (features)\n",
    "features = ['pressure_out', 'vibration', 'temperature']\n",
    "\n",
    "# Separar X (entradas) e y (alvo)\n",
    "X = df_model[features]\n",
    "y = df_model[target]\n",
    "\n",
    "# Conferir as primeiras linhas\n",
    "X.head(), y.head()\n"
   ]
  },
  {
   "cell_type": "code",
   "execution_count": 5,
   "id": "9a8297fa",
   "metadata": {},
   "outputs": [
    {
     "name": "stdout",
     "output_type": "stream",
     "text": [
      "Treino: (800, 3)\n",
      "Teste : (200, 3)\n"
     ]
    }
   ],
   "source": [
    "from sklearn.model_selection import train_test_split\n",
    "\n",
    "# Separar os dados: 80% para treino, 20% para teste\n",
    "X_train, X_test, y_train, y_test = train_test_split(\n",
    "    X, y, test_size=0.2, random_state=42\n",
    ")\n",
    "\n",
    "# Verificar tamanhos dos conjuntos\n",
    "print(\"Treino:\", X_train.shape)\n",
    "print(\"Teste :\", X_test.shape)\n"
   ]
  },
  {
   "cell_type": "code",
   "execution_count": 6,
   "id": "849a5fdd",
   "metadata": {},
   "outputs": [
    {
     "name": "stdout",
     "output_type": "stream",
     "text": [
      "MAE  (Erro Médio Absoluto):     1.08\n",
      "RMSE (Raiz do Erro Quadrático): 1.37\n",
      "R²   (Coef. Determinação):      0.0048\n"
     ]
    }
   ],
   "source": [
    "from sklearn.linear_model import LinearRegression\n",
    "from sklearn.metrics import mean_absolute_error, mean_squared_error, r2_score\n",
    "import numpy as np\n",
    "\n",
    "# Criar e treinar o modelo\n",
    "modelo_lr = LinearRegression()\n",
    "modelo_lr.fit(X_train, y_train)\n",
    "\n",
    "# Fazer previsões\n",
    "y_pred = modelo_lr.predict(X_test)\n",
    "\n",
    "# Avaliar o modelo\n",
    "mae = mean_absolute_error(y_test, y_pred)\n",
    "rmse = np.sqrt(mean_squared_error(y_test, y_pred))\n",
    "r2 = r2_score(y_test, y_pred)\n",
    "\n",
    "print(f\"MAE  (Erro Médio Absoluto):     {mae:.2f}\")\n",
    "print(f\"RMSE (Raiz do Erro Quadrático): {rmse:.2f}\")\n",
    "print(f\"R²   (Coef. Determinação):      {r2:.4f}\")\n"
   ]
  }
 ],
 "metadata": {
  "kernelspec": {
   "display_name": "Python 3",
   "language": "python",
   "name": "python3"
  },
  "language_info": {
   "codemirror_mode": {
    "name": "ipython",
    "version": 3
   },
   "file_extension": ".py",
   "mimetype": "text/x-python",
   "name": "python",
   "nbconvert_exporter": "python",
   "pygments_lexer": "ipython3",
   "version": "3.11.9"
  }
 },
 "nbformat": 4,
 "nbformat_minor": 5
}
